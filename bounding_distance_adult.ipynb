{
 "cells": [
  {
   "cell_type": "code",
   "execution_count": 1,
   "metadata": {},
   "outputs": [],
   "source": [
    "import pandas as pd\n",
    "import numpy as np\n",
    "import warnings\n",
    "import math\n",
    "import time\n",
    "from sklearn.preprocessing import OneHotEncoder\n",
    "from sklearn.preprocessing import StandardScaler\n",
    "from scipy.stats import wasserstein_distance\n",
    "from collections import defaultdict\n",
    "\n",
    "warnings.filterwarnings('ignore')"
   ]
  },
  {
   "cell_type": "code",
   "execution_count": 2,
   "metadata": {},
   "outputs": [],
   "source": [
    "def reading_adult_csv(): #reading and taking off the rows \"NULL\" values\n",
    "    df = pd.read_csv('adult.csv')\n",
    "    df = df[(df.workclass != '?') & (df.occupation != '?') & (df['native-country'] != '?')] #removing missing data\n",
    "    df.drop(df.columns[3], axis=1, inplace=True) #education is equivalent to education-num, so i'm going to remove education column\n",
    "    df.drop(df.columns[2], axis=1, inplace=True) #fnlwgt has continuous values, so it's too much for tree\n",
    "    df.reset_index(drop=True, inplace=True)\n",
    "    return df"
   ]
  },
  {
   "cell_type": "markdown",
   "metadata": {},
   "source": [
    "## Atribuir pesos as classes em ordem crescente:\n",
    "### Workclass\n",
    "       (1) Without-pay          \n",
    "       (2) Self-emp-not-inc     \n",
    "       (3) Self-emp-inc         \n",
    "       (4) Private              \n",
    "       (5) Local-gov                   \n",
    "       (6) State-gov                 \n",
    "       (7) Federal-gov     "
   ]
  },
  {
   "cell_type": "code",
   "execution_count": 3,
   "metadata": {},
   "outputs": [],
   "source": [
    "def updating_values(df):\n",
    "    #replacing the values with the ones that were specified in text above\n",
    "    df['workclass'].replace({'Without-pay': 1, 'Self-emp-not-inc': 2, 'Self-emp-inc': 3, 'Private': 4,\n",
    "                             'Local-gov': 5, 'State-gov': 6, 'Federal-gov': 7}, inplace=True)\n",
    "\n",
    "    categorical = df.copy()\n",
    "    categorical.drop(categorical.columns[[0,1,2,8,9,10]], axis=1, inplace=True)\n",
    "    categorical.reset_index(drop=True, inplace=True)\n",
    "  \n",
    "    num_attr = df.copy()\n",
    "    #removing categorical columns and label (the label will be added again after all one-hot encoded columns been added)\n",
    "    num_attr.drop(num_attr.columns[[3,4,5,6,7,11,12]], axis=1, inplace=True)\n",
    "    num_attr.reset_index(drop=True, inplace=True)\n",
    "    scaler = StandardScaler() # se não normalizar a distancia l_infinito fica mto alta pra atributos com grandes diferenças de valores\n",
    "    standardization = pd.DataFrame(scaler.fit_transform(num_attr), columns = ['age', 'workclass', 'educational-num', 'capital-gain', 'capital-loss', 'hours-per-week'])\n",
    "    new_df = standardization.join(categorical)\n",
    "    \n",
    "    return new_df"
   ]
  },
  {
   "cell_type": "code",
   "execution_count": 4,
   "metadata": {},
   "outputs": [],
   "source": [
    "df = reading_adult_csv()\n",
    "df = updating_values(df)"
   ]
  },
  {
   "cell_type": "code",
   "execution_count": 5,
   "metadata": {},
   "outputs": [
    {
     "data": {
      "text/html": [
       "<div>\n",
       "<style scoped>\n",
       "    .dataframe tbody tr th:only-of-type {\n",
       "        vertical-align: middle;\n",
       "    }\n",
       "\n",
       "    .dataframe tbody tr th {\n",
       "        vertical-align: top;\n",
       "    }\n",
       "\n",
       "    .dataframe thead th {\n",
       "        text-align: right;\n",
       "    }\n",
       "</style>\n",
       "<table border=\"1\" class=\"dataframe\">\n",
       "  <thead>\n",
       "    <tr style=\"text-align: right;\">\n",
       "      <th></th>\n",
       "      <th>age</th>\n",
       "      <th>workclass</th>\n",
       "      <th>educational-num</th>\n",
       "      <th>capital-gain</th>\n",
       "      <th>capital-loss</th>\n",
       "      <th>hours-per-week</th>\n",
       "      <th>marital-status</th>\n",
       "      <th>occupation</th>\n",
       "      <th>relationship</th>\n",
       "      <th>race</th>\n",
       "      <th>gender</th>\n",
       "      <th>native-country</th>\n",
       "      <th>income</th>\n",
       "    </tr>\n",
       "  </thead>\n",
       "  <tbody>\n",
       "    <tr>\n",
       "      <th>0</th>\n",
       "      <td>-1.024983</td>\n",
       "      <td>-0.044620</td>\n",
       "      <td>-1.221559</td>\n",
       "      <td>-0.146733</td>\n",
       "      <td>-0.21878</td>\n",
       "      <td>-0.078120</td>\n",
       "      <td>Never-married</td>\n",
       "      <td>Machine-op-inspct</td>\n",
       "      <td>Own-child</td>\n",
       "      <td>Black</td>\n",
       "      <td>Male</td>\n",
       "      <td>United-States</td>\n",
       "      <td>&lt;=50K</td>\n",
       "    </tr>\n",
       "    <tr>\n",
       "      <th>1</th>\n",
       "      <td>-0.041455</td>\n",
       "      <td>-0.044620</td>\n",
       "      <td>-0.438122</td>\n",
       "      <td>-0.146733</td>\n",
       "      <td>-0.21878</td>\n",
       "      <td>0.754701</td>\n",
       "      <td>Married-civ-spouse</td>\n",
       "      <td>Farming-fishing</td>\n",
       "      <td>Husband</td>\n",
       "      <td>White</td>\n",
       "      <td>Male</td>\n",
       "      <td>United-States</td>\n",
       "      <td>&lt;=50K</td>\n",
       "    </tr>\n",
       "    <tr>\n",
       "      <th>2</th>\n",
       "      <td>-0.798015</td>\n",
       "      <td>1.012377</td>\n",
       "      <td>0.737034</td>\n",
       "      <td>-0.146733</td>\n",
       "      <td>-0.21878</td>\n",
       "      <td>-0.078120</td>\n",
       "      <td>Married-civ-spouse</td>\n",
       "      <td>Protective-serv</td>\n",
       "      <td>Husband</td>\n",
       "      <td>White</td>\n",
       "      <td>Male</td>\n",
       "      <td>United-States</td>\n",
       "      <td>&gt;50K</td>\n",
       "    </tr>\n",
       "    <tr>\n",
       "      <th>3</th>\n",
       "      <td>0.412481</td>\n",
       "      <td>-0.044620</td>\n",
       "      <td>-0.046403</td>\n",
       "      <td>0.877467</td>\n",
       "      <td>-0.21878</td>\n",
       "      <td>-0.078120</td>\n",
       "      <td>Married-civ-spouse</td>\n",
       "      <td>Machine-op-inspct</td>\n",
       "      <td>Husband</td>\n",
       "      <td>Black</td>\n",
       "      <td>Male</td>\n",
       "      <td>United-States</td>\n",
       "      <td>&gt;50K</td>\n",
       "    </tr>\n",
       "    <tr>\n",
       "      <th>4</th>\n",
       "      <td>-0.344079</td>\n",
       "      <td>-0.044620</td>\n",
       "      <td>-1.613277</td>\n",
       "      <td>-0.146733</td>\n",
       "      <td>-0.21878</td>\n",
       "      <td>-0.910942</td>\n",
       "      <td>Never-married</td>\n",
       "      <td>Other-service</td>\n",
       "      <td>Not-in-family</td>\n",
       "      <td>White</td>\n",
       "      <td>Male</td>\n",
       "      <td>United-States</td>\n",
       "      <td>&lt;=50K</td>\n",
       "    </tr>\n",
       "  </tbody>\n",
       "</table>\n",
       "</div>"
      ],
      "text/plain": [
       "        age  workclass  educational-num  capital-gain  capital-loss  \\\n",
       "0 -1.024983  -0.044620        -1.221559     -0.146733      -0.21878   \n",
       "1 -0.041455  -0.044620        -0.438122     -0.146733      -0.21878   \n",
       "2 -0.798015   1.012377         0.737034     -0.146733      -0.21878   \n",
       "3  0.412481  -0.044620        -0.046403      0.877467      -0.21878   \n",
       "4 -0.344079  -0.044620        -1.613277     -0.146733      -0.21878   \n",
       "\n",
       "   hours-per-week      marital-status         occupation   relationship  \\\n",
       "0       -0.078120       Never-married  Machine-op-inspct      Own-child   \n",
       "1        0.754701  Married-civ-spouse    Farming-fishing        Husband   \n",
       "2       -0.078120  Married-civ-spouse    Protective-serv        Husband   \n",
       "3       -0.078120  Married-civ-spouse  Machine-op-inspct        Husband   \n",
       "4       -0.910942       Never-married      Other-service  Not-in-family   \n",
       "\n",
       "    race gender native-country income  \n",
       "0  Black   Male  United-States  <=50K  \n",
       "1  White   Male  United-States  <=50K  \n",
       "2  White   Male  United-States   >50K  \n",
       "3  Black   Male  United-States   >50K  \n",
       "4  White   Male  United-States  <=50K  "
      ]
     },
     "execution_count": 5,
     "metadata": {},
     "output_type": "execute_result"
    }
   ],
   "source": [
    "df.head()"
   ]
  },
  {
   "cell_type": "code",
   "execution_count": 6,
   "metadata": {},
   "outputs": [],
   "source": [
    "def distance_l_infty(dataset, ind_x, ind_y):\n",
    "    def cat_distance(dataset, ind_x, ind_y, cat=['marital-status', 'occupation', 'relationship', 'race', 'gender', 'native-country']):\n",
    "        return list(map(int, (dataset[cat].iloc[ind_x] != dataset[cat].iloc[ind_y])))\n",
    "    \n",
    "    num_attr = ['age', 'workclass', 'educational-num', 'capital-gain', 'capital-loss', 'hours-per-week']\n",
    "    diff = list(dataset[num_attr].values[ind_x] - dataset[num_attr].values[ind_y])\n",
    "    [diff.append(d) for d in cat_distance(dataset, ind_x, ind_y)]\n",
    "    \n",
    "    return np.linalg.norm(diff, np.inf)"
   ]
  },
  {
   "cell_type": "code",
   "execution_count": 7,
   "metadata": {},
   "outputs": [],
   "source": [
    "def bound_distance_d(dataset):\n",
    "    min_bound = np.infty\n",
    "    for i in range(len(dataset)-1):\n",
    "        for j in range(i+1, len(dataset)):\n",
    "            dist_i_j = distance_l_infty(dataset, i, j)\n",
    "            if(min_bound > dist_i_j):\n",
    "                min_bound = dist_i_j\n",
    "                indexes = i,j\n",
    "    return min_bound, indexes"
   ]
  },
  {
   "cell_type": "code",
   "execution_count": 8,
   "metadata": {},
   "outputs": [
    {
     "data": {
      "text/plain": [
       "(0.07565598997235568, (44, 60))"
      ]
     },
     "execution_count": 8,
     "metadata": {},
     "output_type": "execute_result"
    }
   ],
   "source": [
    "#bound_distance_d(df[:100])"
   ]
  }
 ],
 "metadata": {
  "kernelspec": {
   "display_name": "Python 3",
   "language": "python",
   "name": "python3"
  },
  "language_info": {
   "codemirror_mode": {
    "name": "ipython",
    "version": 3
   },
   "file_extension": ".py",
   "mimetype": "text/x-python",
   "name": "python",
   "nbconvert_exporter": "python",
   "pygments_lexer": "ipython3",
   "version": "3.7.3"
  }
 },
 "nbformat": 4,
 "nbformat_minor": 2
}
